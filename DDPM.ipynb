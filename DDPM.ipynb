{
 "cells": [
  {
   "cell_type": "code",
   "execution_count": 1,
   "metadata": {},
   "outputs": [
    {
     "name": "stderr",
     "output_type": "stream",
     "text": [
      "c:\\Users\\rahar\\anaconda3\\envs\\neuro\\lib\\site-packages\\tqdm\\auto.py:21: TqdmWarning: IProgress not found. Please update jupyter and ipywidgets. See https://ipywidgets.readthedocs.io/en/stable/user_install.html\n",
      "  from .autonotebook import tqdm as notebook_tqdm\n",
      "c:\\Users\\rahar\\anaconda3\\envs\\neuro\\lib\\site-packages\\torchaudio\\backend\\utils.py:74: UserWarning: No audio backend is available.\n",
      "  warnings.warn(\"No audio backend is available.\")\n"
     ]
    }
   ],
   "source": [
    "import torch\n",
    "import numpy as np\n",
    "import einx\n",
    "import torchvision\n",
    "import torchvision.transforms as transforms\n",
    "from diffusion import Diffusion, UnetConfig\n",
    "import lightning\n",
    "from lightning.fabric import Fabric\n",
    "from pytorch_lightning.utilities.model_summary import ModelSummary\n",
    "from torch import nn\n",
    "import torch.nn.functional as F\n",
    "from typing import Any\n",
    "from torch.utils import data\n",
    "from tqdm import tqdm\n",
    "import matplotlib.pyplot as plt"
   ]
  },
  {
   "cell_type": "markdown",
   "metadata": {},
   "source": [
    "## Loading MNIST"
   ]
  },
  {
   "cell_type": "code",
   "execution_count": 2,
   "metadata": {},
   "outputs": [],
   "source": [
    "BATCH_SIZE = 32\n",
    "DEVICE = \"cuda\"\n",
    "torch.set_float32_matmul_precision('medium')"
   ]
  },
  {
   "cell_type": "code",
   "execution_count": 3,
   "metadata": {},
   "outputs": [],
   "source": [
    "transform = transforms.Compose(\n",
    "    [transforms.ToTensor(),\n",
    "    transforms.Normalize((0.5,), (0.5,))])\n",
    "\n",
    "training_set = torchvision.datasets.MNIST('./data', train=True, transform=transform, download=True)\n",
    "validation_set = torchvision.datasets.MNIST('./data', train=False, transform=transform, download=True)\n",
    "\n",
    "# Create data loaders for our datasets; shuffle for training, not for validation\n",
    "training_loader = torch.utils.data.DataLoader(training_set, batch_size=BATCH_SIZE, shuffle=True,\n",
    "\t\t\t\t\t\t\t\t\t\t\t  drop_last=True)\n",
    "validation_loader = torch.utils.data.DataLoader(validation_set, batch_size=BATCH_SIZE, shuffle=False,\n",
    "\t\t\t\t\t\t\t\t\t\t\t\tdrop_last=True)"
   ]
  },
  {
   "cell_type": "markdown",
   "metadata": {},
   "source": [
    "## DDPM sampler"
   ]
  },
  {
   "cell_type": "code",
   "execution_count": 4,
   "metadata": {},
   "outputs": [],
   "source": [
    "class DDPMSampler:\n",
    "\n",
    "\tdef __init__(self,\n",
    "\t\t\t  generator:torch.Generator,\n",
    "\t\t\t  num_training_steps=1000,\n",
    "\t\t\t  beta_start:float = 0.00085,\n",
    "\t\t\t  beta_end:float = 0.0120,):\n",
    "\t\t\n",
    "\t\t# scaled linear schedule\n",
    "\t\tself.betas = torch.linspace(beta_start**0.5,beta_end**0.5,num_training_steps,dtype=torch.float32)**2\n",
    "\t\tself.alphas = 1.0 - self.betas\n",
    "\n",
    "\t\tself.alpha_cumprod = torch.cumprod(self.alphas,0)\n",
    "\t\tself.one = torch.tensor(1.0)\n",
    "\t\tself.zero = torch.tensor(0.0)\n",
    "\n",
    "\t\tself.generator = generator\n",
    "\t\tself.num_training_steps = num_training_steps\n",
    "\t\t\n",
    "\t\tself.timesteps = torch.arange(num_training_steps).flip(-1)\n",
    "\n",
    "\tdef add_get_noise(self,\n",
    "\t\t\t\t   original_samples:torch.FloatTensor,\n",
    "\t\t\t\t   timesteps:torch.IntTensor):\n",
    "\t\t\n",
    "\t\talpha_cumprod = self.alpha_cumprod.to(device=original_samples.device,dtype=original_samples.dtype)\n",
    "\t\ttime_steps = timesteps.to(original_samples.device)\n",
    "\t\tsqrt_alpha_cumprod = alpha_cumprod[timesteps]**0.5\n",
    "\t\tsqrt_alpha_cumprod = sqrt_alpha_cumprod.flatten()\n",
    "\n",
    "\t\twhile len(sqrt_alpha_cumprod.shape) < len(original_samples.shape):\n",
    "\t\t\tsqrt_alpha_cumprod = sqrt_alpha_cumprod.unsqueeze(-1)\n",
    "\n",
    "\t\tsqrt_one_minus_alpha_cumprod = (1 - alpha_cumprod[timesteps])**0.5\n",
    "\t\tsqrt_one_minus_alpha_cumprod = sqrt_one_minus_alpha_cumprod.flatten()\n",
    "\n",
    "\t\twhile len(sqrt_one_minus_alpha_cumprod.shape) < len(original_samples.shape):\n",
    "\t\t\tsqrt_one_minus_alpha_cumprod = sqrt_one_minus_alpha_cumprod.unsqueeze(-1)\n",
    "\n",
    "\t\tnoise = torch.randn(original_samples.shape,generator=self.generator,\n",
    "\t\t\t\t\t  device=original_samples.device,dtype=original_samples.dtype)\n",
    "\t\n",
    "\t\tnoisy_sample = sqrt_alpha_cumprod * original_samples + sqrt_one_minus_alpha_cumprod * noise\n",
    "\t\treturn noisy_sample,noise\n",
    "\t\n",
    "\tdef reverse_step(self,\n",
    "\t\t\t\t  timestep:int,\n",
    "\t\t\t\t  latents:torch.Tensor,\n",
    "\t\t\t\t  model_output:torch.Tensor,):\n",
    "\t\t\n",
    "\t\tt = timestep\n",
    "\n",
    "\t\talpha_prod_t = self.alpha_cumprod[timestep]\n",
    "\t\talpha_prod_t_prev = self.alpha_cumprod[timestep]\n",
    "\n",
    "\t\talpha_t = self.alphas[timestep]\n",
    "\n",
    "\t\tsigma_t = ((1 - alpha_prod_t_prev)*(1 - alpha_t)/(1 - alpha_prod_t))**(0.5)\n",
    "\n",
    "\t\timage_scale = 1/(alpha_t**0.5)\n",
    "\n",
    "\t\tnoise_scale = -(1-alpha_t)/(alpha_t*(1-alpha_prod_t))**(0.5)\n",
    "\n",
    "\t\tmean = image_scale*latents + noise_scale*model_output\n",
    "\n",
    "\t\tvariance = 0\n",
    "\t\t\n",
    "\t\tif t> 0:\n",
    "\t\t\tdevice = model_output.device\n",
    "\t\t\tnoise = torch.randn(model_output.shape,\n",
    "\t\t\t\tgenerator=self.generator,\n",
    "\t\t\t\tdevice=device,\n",
    "\t\t\t\tdtype=model_output.dtype)\n",
    "\t\t\tvariance = sigma_t*noise\n",
    "\n",
    "\t\tx_t_prev = mean + variance\n",
    "\n",
    "\t\treturn x_t_prev\n",
    "\t\t"
   ]
  },
  {
   "cell_type": "markdown",
   "metadata": {},
   "source": [
    "## Setting up models"
   ]
  },
  {
   "cell_type": "code",
   "execution_count": 5,
   "metadata": {},
   "outputs": [],
   "source": [
    "class IdentityModule(lightning.LightningModule):\n",
    "\n",
    "\tdef __init__(self, *args: Any, **kwargs: Any) -> None:\n",
    "\t\tsuper().__init__(*args, **kwargs)\n",
    "\n",
    "\tdef forward(self,x) -> Any:\n",
    "\t\treturn x"
   ]
  },
  {
   "cell_type": "code",
   "execution_count": 6,
   "metadata": {},
   "outputs": [],
   "source": [
    "class StandardDiffusion(lightning.LightningModule):\n",
    "\n",
    "\tdef __init__(self,\n",
    "\t\t\t  diffusion_config:UnetConfig,\n",
    "\t\t\t  num_timesteps=1000):\n",
    "\t\t\n",
    "\t\tsuper().__init__()\n",
    "\n",
    "\t\tself.class_embedder = nn.Embedding(11,diffusion_config.d_context)\n",
    "\t\tself.encoder = IdentityModule()\n",
    "\t\tself.decoder = IdentityModule()\n",
    "\t\tself.diffusion = Diffusion(diffusion_config)\n",
    "\t\tself.generator = torch.Generator(device=DEVICE)\n",
    "\t\tself.sampler = DDPMSampler(self.generator,num_training_steps=num_timesteps)\n",
    "\t\tself.diffusion_config = diffusion_config\n",
    "\t\n",
    "\tdef time_embed(self,timesteps):\n",
    "\t\tfreqs = torch.pow(10000,\n",
    "\t\t\t\t\t -torch.arange(start=0,\n",
    "\t\t\t\t\t end=self.diffusion_config.time_dim // 2,\n",
    "\t\t\t\t\t dtype=torch.float32) / (self.diffusion_config.time_dim // 2))\n",
    "\n",
    "\t\t# Expand timesteps to match frequency dimensions (Shape: (batch_size, TIME_DIM // 2))\n",
    "\t\tx = timesteps[:, None] * freqs[None, :].to(timesteps.device)\n",
    "\n",
    "\t\t# Concatenate sine and cosine embeddings (Shape: (batch_size, TIME_DIM))\n",
    "\t\treturn torch.cat([torch.cos(x), torch.sin(x)], dim=-1)\n",
    "\n",
    "\tdef diffusion_training_step(self,x,labels):\n",
    "\t\tb,c,h,w = x.shape\n",
    "\n",
    "\t\tt = torch.randint(0,self.sampler.num_training_steps,\n",
    "\t\t\t\t\t(b,),\n",
    "\t\t\t\t\tdevice=DEVICE,\n",
    "\t\t\t\t\tgenerator=self.generator)\n",
    "\t\t\n",
    "\t\tnoisy_latent,noise = self.sampler.add_get_noise(x,t)\n",
    "\n",
    "\t\ttime_embeds = self.time_embed(t)\n",
    "\n",
    "\t\tcontext = self.class_embedder(labels)\n",
    "\n",
    "\t\tpredicted_noise = self.diffusion(noisy_latent,context,time_embeds)\n",
    "\n",
    "\t\tloss = F.mse_loss(predicted_noise,noise)\n",
    "\t\treturn loss"
   ]
  },
  {
   "cell_type": "code",
   "execution_count": 7,
   "metadata": {},
   "outputs": [],
   "source": [
    "mnist_normal_diffusion_config = UnetConfig(\n",
    "\tin_channels=1,\n",
    "\tn_downsample=2,\n",
    "\tinit_dim=8,\n",
    "\tfinal_dim=32,\n",
    "\tn_heads=4,\n",
    "\tn_group=4,\n",
    "\tkernel_size=3,\n",
    "\ttime_dim=320,\n",
    "\td_context=32\n",
    ")"
   ]
  },
  {
   "cell_type": "code",
   "execution_count": 8,
   "metadata": {},
   "outputs": [],
   "source": [
    "normal_diff = StandardDiffusion(mnist_normal_diffusion_config,1000)"
   ]
  },
  {
   "cell_type": "code",
   "execution_count": 9,
   "metadata": {},
   "outputs": [
    {
     "data": {
      "text/plain": [
       "tensor([999, 998, 997, 996, 995, 994, 993, 992, 991, 990, 989, 988, 987, 986,\n",
       "        985, 984, 983, 982, 981, 980, 979, 978, 977, 976, 975, 974, 973, 972,\n",
       "        971, 970, 969, 968, 967, 966, 965, 964, 963, 962, 961, 960, 959, 958,\n",
       "        957, 956, 955, 954, 953, 952, 951, 950, 949, 948, 947, 946, 945, 944,\n",
       "        943, 942, 941, 940, 939, 938, 937, 936, 935, 934, 933, 932, 931, 930,\n",
       "        929, 928, 927, 926, 925, 924, 923, 922, 921, 920, 919, 918, 917, 916,\n",
       "        915, 914, 913, 912, 911, 910, 909, 908, 907, 906, 905, 904, 903, 902,\n",
       "        901, 900, 899, 898, 897, 896, 895, 894, 893, 892, 891, 890, 889, 888,\n",
       "        887, 886, 885, 884, 883, 882, 881, 880, 879, 878, 877, 876, 875, 874,\n",
       "        873, 872, 871, 870, 869, 868, 867, 866, 865, 864, 863, 862, 861, 860,\n",
       "        859, 858, 857, 856, 855, 854, 853, 852, 851, 850, 849, 848, 847, 846,\n",
       "        845, 844, 843, 842, 841, 840, 839, 838, 837, 836, 835, 834, 833, 832,\n",
       "        831, 830, 829, 828, 827, 826, 825, 824, 823, 822, 821, 820, 819, 818,\n",
       "        817, 816, 815, 814, 813, 812, 811, 810, 809, 808, 807, 806, 805, 804,\n",
       "        803, 802, 801, 800, 799, 798, 797, 796, 795, 794, 793, 792, 791, 790,\n",
       "        789, 788, 787, 786, 785, 784, 783, 782, 781, 780, 779, 778, 777, 776,\n",
       "        775, 774, 773, 772, 771, 770, 769, 768, 767, 766, 765, 764, 763, 762,\n",
       "        761, 760, 759, 758, 757, 756, 755, 754, 753, 752, 751, 750, 749, 748,\n",
       "        747, 746, 745, 744, 743, 742, 741, 740, 739, 738, 737, 736, 735, 734,\n",
       "        733, 732, 731, 730, 729, 728, 727, 726, 725, 724, 723, 722, 721, 720,\n",
       "        719, 718, 717, 716, 715, 714, 713, 712, 711, 710, 709, 708, 707, 706,\n",
       "        705, 704, 703, 702, 701, 700, 699, 698, 697, 696, 695, 694, 693, 692,\n",
       "        691, 690, 689, 688, 687, 686, 685, 684, 683, 682, 681, 680, 679, 678,\n",
       "        677, 676, 675, 674, 673, 672, 671, 670, 669, 668, 667, 666, 665, 664,\n",
       "        663, 662, 661, 660, 659, 658, 657, 656, 655, 654, 653, 652, 651, 650,\n",
       "        649, 648, 647, 646, 645, 644, 643, 642, 641, 640, 639, 638, 637, 636,\n",
       "        635, 634, 633, 632, 631, 630, 629, 628, 627, 626, 625, 624, 623, 622,\n",
       "        621, 620, 619, 618, 617, 616, 615, 614, 613, 612, 611, 610, 609, 608,\n",
       "        607, 606, 605, 604, 603, 602, 601, 600, 599, 598, 597, 596, 595, 594,\n",
       "        593, 592, 591, 590, 589, 588, 587, 586, 585, 584, 583, 582, 581, 580,\n",
       "        579, 578, 577, 576, 575, 574, 573, 572, 571, 570, 569, 568, 567, 566,\n",
       "        565, 564, 563, 562, 561, 560, 559, 558, 557, 556, 555, 554, 553, 552,\n",
       "        551, 550, 549, 548, 547, 546, 545, 544, 543, 542, 541, 540, 539, 538,\n",
       "        537, 536, 535, 534, 533, 532, 531, 530, 529, 528, 527, 526, 525, 524,\n",
       "        523, 522, 521, 520, 519, 518, 517, 516, 515, 514, 513, 512, 511, 510,\n",
       "        509, 508, 507, 506, 505, 504, 503, 502, 501, 500, 499, 498, 497, 496,\n",
       "        495, 494, 493, 492, 491, 490, 489, 488, 487, 486, 485, 484, 483, 482,\n",
       "        481, 480, 479, 478, 477, 476, 475, 474, 473, 472, 471, 470, 469, 468,\n",
       "        467, 466, 465, 464, 463, 462, 461, 460, 459, 458, 457, 456, 455, 454,\n",
       "        453, 452, 451, 450, 449, 448, 447, 446, 445, 444, 443, 442, 441, 440,\n",
       "        439, 438, 437, 436, 435, 434, 433, 432, 431, 430, 429, 428, 427, 426,\n",
       "        425, 424, 423, 422, 421, 420, 419, 418, 417, 416, 415, 414, 413, 412,\n",
       "        411, 410, 409, 408, 407, 406, 405, 404, 403, 402, 401, 400, 399, 398,\n",
       "        397, 396, 395, 394, 393, 392, 391, 390, 389, 388, 387, 386, 385, 384,\n",
       "        383, 382, 381, 380, 379, 378, 377, 376, 375, 374, 373, 372, 371, 370,\n",
       "        369, 368, 367, 366, 365, 364, 363, 362, 361, 360, 359, 358, 357, 356,\n",
       "        355, 354, 353, 352, 351, 350, 349, 348, 347, 346, 345, 344, 343, 342,\n",
       "        341, 340, 339, 338, 337, 336, 335, 334, 333, 332, 331, 330, 329, 328,\n",
       "        327, 326, 325, 324, 323, 322, 321, 320, 319, 318, 317, 316, 315, 314,\n",
       "        313, 312, 311, 310, 309, 308, 307, 306, 305, 304, 303, 302, 301, 300,\n",
       "        299, 298, 297, 296, 295, 294, 293, 292, 291, 290, 289, 288, 287, 286,\n",
       "        285, 284, 283, 282, 281, 280, 279, 278, 277, 276, 275, 274, 273, 272,\n",
       "        271, 270, 269, 268, 267, 266, 265, 264, 263, 262, 261, 260, 259, 258,\n",
       "        257, 256, 255, 254, 253, 252, 251, 250, 249, 248, 247, 246, 245, 244,\n",
       "        243, 242, 241, 240, 239, 238, 237, 236, 235, 234, 233, 232, 231, 230,\n",
       "        229, 228, 227, 226, 225, 224, 223, 222, 221, 220, 219, 218, 217, 216,\n",
       "        215, 214, 213, 212, 211, 210, 209, 208, 207, 206, 205, 204, 203, 202,\n",
       "        201, 200, 199, 198, 197, 196, 195, 194, 193, 192, 191, 190, 189, 188,\n",
       "        187, 186, 185, 184, 183, 182, 181, 180, 179, 178, 177, 176, 175, 174,\n",
       "        173, 172, 171, 170, 169, 168, 167, 166, 165, 164, 163, 162, 161, 160,\n",
       "        159, 158, 157, 156, 155, 154, 153, 152, 151, 150, 149, 148, 147, 146,\n",
       "        145, 144, 143, 142, 141, 140, 139, 138, 137, 136, 135, 134, 133, 132,\n",
       "        131, 130, 129, 128, 127, 126, 125, 124, 123, 122, 121, 120, 119, 118,\n",
       "        117, 116, 115, 114, 113, 112, 111, 110, 109, 108, 107, 106, 105, 104,\n",
       "        103, 102, 101, 100,  99,  98,  97,  96,  95,  94,  93,  92,  91,  90,\n",
       "         89,  88,  87,  86,  85,  84,  83,  82,  81,  80,  79,  78,  77,  76,\n",
       "         75,  74,  73,  72,  71,  70,  69,  68,  67,  66,  65,  64,  63,  62,\n",
       "         61,  60,  59,  58,  57,  56,  55,  54,  53,  52,  51,  50,  49,  48,\n",
       "         47,  46,  45,  44,  43,  42,  41,  40,  39,  38,  37,  36,  35,  34,\n",
       "         33,  32,  31,  30,  29,  28,  27,  26,  25,  24,  23,  22,  21,  20,\n",
       "         19,  18,  17,  16,  15,  14,  13,  12,  11,  10,   9,   8,   7,   6,\n",
       "          5,   4,   3,   2,   1,   0])"
      ]
     },
     "execution_count": 9,
     "metadata": {},
     "output_type": "execute_result"
    }
   ],
   "source": [
    "normal_diff.sampler.timesteps"
   ]
  },
  {
   "cell_type": "code",
   "execution_count": 10,
   "metadata": {},
   "outputs": [
    {
     "data": {
      "text/plain": [
       "  | Name           | Type           | Params\n",
       "--------------------------------------------------\n",
       "0 | class_embedder | Embedding      | 352   \n",
       "1 | encoder        | IdentityModule | 0     \n",
       "2 | decoder        | IdentityModule | 0     \n",
       "3 | diffusion      | Diffusion      | 2.5 M \n",
       "--------------------------------------------------\n",
       "2.5 M     Trainable params\n",
       "0         Non-trainable params\n",
       "2.5 M     Total params\n",
       "9.939     Total estimated model params size (MB)"
      ]
     },
     "execution_count": 10,
     "metadata": {},
     "output_type": "execute_result"
    }
   ],
   "source": [
    "normal_diff.to(DEVICE)\n",
    "ModelSummary(normal_diff)"
   ]
  },
  {
   "cell_type": "code",
   "execution_count": 11,
   "metadata": {},
   "outputs": [],
   "source": [
    "def diffusion_prep_batch(x,\n",
    "\t\t\t\t\t\t y,\n",
    "\t\t\t\t\t\t pdrop=0.2):\n",
    "\ty = y+1\n",
    "\tdrop = torch.rand(y.shape)\n",
    "\treturn x,y*(drop>pdrop)"
   ]
  },
  {
   "cell_type": "code",
   "execution_count": 12,
   "metadata": {},
   "outputs": [],
   "source": [
    "def diffusion_train(fabric,\n",
    "          model: StandardDiffusion,\n",
    "          training_loader: data.DataLoader,\n",
    "          n_train_steps: int,\n",
    "          val_steps: int):\n",
    "    \n",
    "    n_steps = 0\n",
    "\n",
    "    losses = []\n",
    "\n",
    "    model = model.to(DEVICE)\n",
    "\n",
    "    model.encoder.freeze()\n",
    "    model.decoder.freeze()\n",
    "\n",
    "    optimizer = torch.optim.AdamW(model.parameters(), lr=1E-3, weight_decay=1E-3)\n",
    "\n",
    "    model,optimizer = fabric.setup(model,optimizer)\n",
    "    \n",
    "    training_losses = []\n",
    "    \n",
    "    while n_steps < n_train_steps:\n",
    "\n",
    "        for batch in training_loader:\n",
    "            with fabric.autocast():\n",
    "                x, y = diffusion_prep_batch(*batch,pdrop=0.2)\n",
    "                x = x.to(DEVICE)\n",
    "                y = y.to(DEVICE)\n",
    "                \n",
    "                loss = model.diffusion_training_step(x,y)\n",
    "\n",
    "            fabric.backward(loss)\n",
    "            losses.append(loss.item())\n",
    "            \n",
    "            optimizer.step()\n",
    "            model.zero_grad()\n",
    "            \n",
    "            n_steps += 1\n",
    "\n",
    "            if n_steps % val_steps == 0:\n",
    "                \n",
    "                print(f\"Training step: {n_steps}/{n_train_steps} | Loss: {np.mean(losses)}\")\n",
    "                \n",
    "                training_losses.append(np.mean(losses))\n",
    "\n",
    "                losses = []\n",
    "                \n",
    "            if n_steps >= n_train_steps:\n",
    "                break\n",
    "\n",
    "    return training_losses"
   ]
  },
  {
   "cell_type": "code",
   "execution_count": 13,
   "metadata": {},
   "outputs": [],
   "source": [
    "fabric = Fabric(accelerator=\"cuda\",precision=\"32-true\")"
   ]
  },
  {
   "cell_type": "code",
   "execution_count": 14,
   "metadata": {},
   "outputs": [
    {
     "name": "stdout",
     "output_type": "stream",
     "text": [
      "Training step: 100/5000 | Loss: 0.2275781811028719\n",
      "Training step: 200/5000 | Loss: 0.07547488734126091\n",
      "Training step: 300/5000 | Loss: 0.05775517035275698\n",
      "Training step: 400/5000 | Loss: 0.05091435264796019\n",
      "Training step: 500/5000 | Loss: 0.04683008974418044\n",
      "Training step: 600/5000 | Loss: 0.04532842598855495\n",
      "Training step: 700/5000 | Loss: 0.04439096488058567\n",
      "Training step: 800/5000 | Loss: 0.04149855595082044\n",
      "Training step: 900/5000 | Loss: 0.04046943344175816\n",
      "Training step: 1000/5000 | Loss: 0.039843745063990355\n",
      "Training step: 1100/5000 | Loss: 0.03863750929012895\n",
      "Training step: 1200/5000 | Loss: 0.03844166060909629\n",
      "Training step: 1300/5000 | Loss: 0.03781624913215637\n",
      "Training step: 1400/5000 | Loss: 0.03538321707397699\n",
      "Training step: 1500/5000 | Loss: 0.03763116119429469\n",
      "Training step: 1600/5000 | Loss: 0.03599358431994915\n",
      "Training step: 1700/5000 | Loss: 0.03607528766617179\n",
      "Training step: 1800/5000 | Loss: 0.03513506598770619\n",
      "Training step: 1900/5000 | Loss: 0.035840705446898935\n",
      "Training step: 2000/5000 | Loss: 0.03478714955970645\n",
      "Training step: 2100/5000 | Loss: 0.03577675899490714\n",
      "Training step: 2200/5000 | Loss: 0.034300180319696665\n",
      "Training step: 2300/5000 | Loss: 0.034647830817848446\n",
      "Training step: 2400/5000 | Loss: 0.033093694671988486\n",
      "Training step: 2500/5000 | Loss: 0.03259767804294825\n",
      "Training step: 2600/5000 | Loss: 0.033247139044106006\n",
      "Training step: 2700/5000 | Loss: 0.03301745366305113\n",
      "Training step: 2800/5000 | Loss: 0.03205338021740317\n",
      "Training step: 2900/5000 | Loss: 0.033000184968113896\n",
      "Training step: 3000/5000 | Loss: 0.03381772147491574\n",
      "Training step: 3100/5000 | Loss: 0.03278613088652491\n",
      "Training step: 3200/5000 | Loss: 0.03271119767799974\n",
      "Training step: 3300/5000 | Loss: 0.03285798380151391\n",
      "Training step: 3400/5000 | Loss: 0.03340396551415324\n",
      "Training step: 3500/5000 | Loss: 0.03280821727588773\n",
      "Training step: 3600/5000 | Loss: 0.03275510404258966\n",
      "Training step: 3700/5000 | Loss: 0.03387454776093364\n",
      "Training step: 3800/5000 | Loss: 0.0317113402672112\n",
      "Training step: 3900/5000 | Loss: 0.032410802133381364\n",
      "Training step: 4000/5000 | Loss: 0.03124401306733489\n",
      "Training step: 4100/5000 | Loss: 0.03178396724164486\n",
      "Training step: 4200/5000 | Loss: 0.03158727722242474\n",
      "Training step: 4300/5000 | Loss: 0.03155533334240317\n",
      "Training step: 4400/5000 | Loss: 0.032476428039371966\n",
      "Training step: 4500/5000 | Loss: 0.030429855287075043\n",
      "Training step: 4600/5000 | Loss: 0.03156325036659837\n",
      "Training step: 4700/5000 | Loss: 0.031835216581821445\n",
      "Training step: 4800/5000 | Loss: 0.03166102774441242\n",
      "Training step: 4900/5000 | Loss: 0.030624886732548474\n",
      "Training step: 5000/5000 | Loss: 0.03078943641856313\n"
     ]
    },
    {
     "data": {
      "text/plain": [
       "[0.2275781811028719,\n",
       " 0.07547488734126091,\n",
       " 0.05775517035275698,\n",
       " 0.05091435264796019,\n",
       " 0.04683008974418044,\n",
       " 0.04532842598855495,\n",
       " 0.04439096488058567,\n",
       " 0.04149855595082044,\n",
       " 0.04046943344175816,\n",
       " 0.039843745063990355,\n",
       " 0.03863750929012895,\n",
       " 0.03844166060909629,\n",
       " 0.03781624913215637,\n",
       " 0.03538321707397699,\n",
       " 0.03763116119429469,\n",
       " 0.03599358431994915,\n",
       " 0.03607528766617179,\n",
       " 0.03513506598770619,\n",
       " 0.035840705446898935,\n",
       " 0.03478714955970645,\n",
       " 0.03577675899490714,\n",
       " 0.034300180319696665,\n",
       " 0.034647830817848446,\n",
       " 0.033093694671988486,\n",
       " 0.03259767804294825,\n",
       " 0.033247139044106006,\n",
       " 0.03301745366305113,\n",
       " 0.03205338021740317,\n",
       " 0.033000184968113896,\n",
       " 0.03381772147491574,\n",
       " 0.03278613088652491,\n",
       " 0.03271119767799974,\n",
       " 0.03285798380151391,\n",
       " 0.03340396551415324,\n",
       " 0.03280821727588773,\n",
       " 0.03275510404258966,\n",
       " 0.03387454776093364,\n",
       " 0.0317113402672112,\n",
       " 0.032410802133381364,\n",
       " 0.03124401306733489,\n",
       " 0.03178396724164486,\n",
       " 0.03158727722242474,\n",
       " 0.03155533334240317,\n",
       " 0.032476428039371966,\n",
       " 0.030429855287075043,\n",
       " 0.03156325036659837,\n",
       " 0.031835216581821445,\n",
       " 0.03166102774441242,\n",
       " 0.030624886732548474,\n",
       " 0.03078943641856313]"
      ]
     },
     "execution_count": 14,
     "metadata": {},
     "output_type": "execute_result"
    }
   ],
   "source": [
    "diffusion_train(fabric,normal_diff,training_loader,5000,100)"
   ]
  },
  {
   "cell_type": "code",
   "execution_count": 15,
   "metadata": {},
   "outputs": [],
   "source": [
    "state_dict = normal_diff.state_dict()\n",
    "torch.save(state_dict,\"states.pt\")"
   ]
  },
  {
   "cell_type": "code",
   "execution_count": 16,
   "metadata": {},
   "outputs": [
    {
     "data": {
      "text/plain": [
       "<All keys matched successfully>"
      ]
     },
     "execution_count": 16,
     "metadata": {},
     "output_type": "execute_result"
    }
   ],
   "source": [
    "normal_diff.load_state_dict(torch.load(\"states.pt\"))"
   ]
  },
  {
   "cell_type": "code",
   "execution_count": 17,
   "metadata": {},
   "outputs": [],
   "source": [
    "def get_time_embedding(timestep):\n",
    "    # Shape: (160,)\n",
    "    freqs = torch.pow(10000, -torch.arange(start=0, end=320//2, dtype=torch.float32) / (320//2)) \n",
    "    # Shape: (1, 160)\n",
    "    x = torch.tensor([timestep], dtype=torch.float32)[:, None] * freqs[None]\n",
    "    # Shape: (1, 160 * 2)\n",
    "    return torch.cat([torch.cos(x), torch.sin(x)], dim=-1)\n"
   ]
  },
  {
   "cell_type": "code",
   "execution_count": 18,
   "metadata": {},
   "outputs": [],
   "source": [
    "def mnist_gen(model:StandardDiffusion,\n",
    "\t\t\t  image_shape,\n",
    "\t\t\t  classes,\n",
    "\t\t\t  do_cfg=True,\n",
    "\t\t\t  cfg_scale=2,):\n",
    "\t\n",
    "\tn_imgs = len(classes)\n",
    "\tlatent_shape = [n_imgs] + list(image_shape)\n",
    "\n",
    "\tlatents = torch.randn(latent_shape,\n",
    "\t\tgenerator=model.generator,\n",
    "\t\tdevice=model.device)\n",
    "\t\n",
    "\ttimesteps = tqdm(model.sampler.timesteps)\n",
    "\n",
    "\tif do_cfg:\n",
    "\t\tuncond_context = torch.zeros_like(classes)\n",
    "\t\tcontext = einx.rearrange(\"b1 ..., b2 ... -> (b1 + b2) ...\",classes,uncond_context)\n",
    "\telse:\n",
    "\t\tcontext = classes\n",
    "\n",
    "\tcontext = model.class_embedder(context)\n",
    "\n",
    "\tfor i,timestep in enumerate(timesteps):\n",
    "\n",
    "\t\twith torch.no_grad():\n",
    "\t\t\ttime_embedding = get_time_embedding(timestep).to(model.device)\n",
    "\n",
    "\t\t\tmodel_inputs = einx.rearrange(\"b ... -> (k b) ...\",latents,k=(1+do_cfg))\n",
    "\n",
    "\t\t\tmodel_output = model.diffusion(model_inputs,context,time_embedding)\n",
    "\n",
    "\t\t\tif do_cfg:\n",
    "\t\t\t\toutput_cond,output_uncond = einx.rearrange(\"(k b) ... -> k b ...\",model_output,k=2)\n",
    "\t\t\t\tmodel_output = cfg_scale * (output_cond - output_uncond) + output_uncond\n",
    "\n",
    "\t\t\tlatents = model.sampler.reverse_step(timestep,latents,model_output)\n",
    "\n",
    "\twith torch.no_grad():\n",
    "\t\timages = model.decoder(latents)\n",
    "\treturn images"
   ]
  },
  {
   "cell_type": "code",
   "execution_count": 19,
   "metadata": {},
   "outputs": [],
   "source": [
    "x,y = diffusion_prep_batch(*next(iter(validation_loader)),pdrop=0)\n",
    "x = x.to(DEVICE)\n",
    "y = y.to(DEVICE)"
   ]
  },
  {
   "cell_type": "code",
   "execution_count": 20,
   "metadata": {},
   "outputs": [
    {
     "name": "stderr",
     "output_type": "stream",
     "text": [
      "100%|██████████| 1000/1000 [00:38<00:00, 26.12it/s]\n"
     ]
    }
   ],
   "source": [
    "diff_imgs = mnist_gen(normal_diff,x.shape[1:],\n",
    "\t\t\t\t\t  classes=y,cfg_scale=5,\n",
    "\t\t\t\t\t  do_cfg=True)"
   ]
  },
  {
   "cell_type": "code",
   "execution_count": 21,
   "metadata": {},
   "outputs": [],
   "source": [
    "diff_imgs = diff_imgs.cpu().detach()"
   ]
  },
  {
   "cell_type": "code",
   "execution_count": 22,
   "metadata": {},
   "outputs": [
    {
     "data": {
      "image/png": "[encoded data removed]",
      "text/plain": [
       "<Figure size 1500x500 with 10 Axes>"
      ]
     },
     "metadata": {},
     "output_type": "display_data"
    }
   ],
   "source": [
    "fig, axes = plt.subplots(1, 10, figsize=(15, 5))\n",
    "\n",
    "for i, ax in enumerate(axes):\n",
    "    ax.imshow(diff_imgs[i].squeeze(), cmap='gray')\n",
    "    ax.set_title(f'Label: {y[i]-1}', fontsize=12)\n",
    "    ax.axis('off')\n",
    "\n",
    "plt.tight_layout()\n",
    "plt.show()\n"
   ]
  },
  {
   "cell_type": "code",
   "execution_count": 24,
   "metadata": {},
   "outputs": [
    {
     "data": {
      "image/png": "[encoded data removed]",
      "text/plain": [
       "<Figure size 1500x500 with 10 Axes>"
      ]
     },
     "metadata": {},
     "output_type": "display_data"
    }
   ],
   "source": [
    "fig, axes = plt.subplots(1, 10, figsize=(15, 5))\n",
    "\n",
    "for i, ax in enumerate(axes):\n",
    "    ax.imshow(x[i].cpu().squeeze(), cmap='gray')\n",
    "    ax.set_title(f'Label: {y[i]-1}', fontsize=12)\n",
    "    ax.axis('off')\n",
    "\n",
    "plt.tight_layout()\n",
    "plt.show()\n"
   ]
  }
 ],
 "metadata": {
  "kernelspec": {
   "display_name": "neuro",
   "language": "python",
   "name": "python3"
  },
  "language_info": {
   "codemirror_mode": {
    "name": "ipython",
    "version": 3
   },
   "file_extension": ".py",
   "mimetype": "text/x-python",
   "name": "python",
   "nbconvert_exporter": "python",
   "pygments_lexer": "ipython3",
   "version": "3.10.12"
  }
 },
 "nbformat": 4,
 "nbformat_minor": 2
}
